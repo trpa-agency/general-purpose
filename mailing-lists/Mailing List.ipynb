{
 "cells": [
  {
   "cell_type": "markdown",
   "metadata": {},
   "source": [
    "## Setup"
   ]
  },
  {
   "cell_type": "code",
   "execution_count": null,
   "metadata": {
    "ExecuteTime": {
     "end_time": "2023-03-06T20:30:46.867764Z",
     "start_time": "2023-03-06T20:30:46.839754Z"
    }
   },
   "outputs": [],
   "source": [
    "# import packages and modules\n",
    "import os,arcpy\n",
    "from arcgis.features import FeatureSet, GeoAccessor, GeoSeriesAccessor\n",
    "import pandas as pd\n",
    "from functools import reduce\n",
    "import pyodbc\n",
    "\n",
    "# set data frame display options\n",
    "pd.set_option('display.width', 1000)\n",
    "pd.set_option('display.max_rows', 200)\n",
    "pd.set_option('display.max_columns', 1000)\n",
    "pd.options.display.float_format = '{:,.2f}'.format\n",
    "\n",
    "# set overwrite to true\n",
    "arcpy.env.overwriteOutput = True\n",
    "\n",
    "# in memory output file path\n",
    "wk_memory = \"memory\" + \"\\\\\"\n",
    "\n",
    "# set workspace and sde connections \n",
    "scratchFolder = \"C:\\\\GIS\"\n",
    "workspace     = \"//Trpa-fs01/GIS/PROJECTS/ResearchAnalysis/MailingLists\"\n",
    "desktop       = \"C:\\\\Users\\\\mbindl\\\\Desktop\"\n",
    "arcpy.env.workspace = \"C:\\\\GIS\\\\Scratch.gdb\"\n",
    "\n",
    "## SDE Connection Files saved on the Network\n",
    "# sdeTabular = \"F:\\\\GIS\\\\GIS_DATA\\\\Tabular.sde\"\n",
    "# sdeBase    = \"F:\\\\GIS\\\\GIS_DATA\\\\Vector.sde\"\n",
    "# sdeCollect = \"F:\\\\GIS\\\\GIS_DATA\\\\Collect.sde\"\n",
    "\n",
    "# network path to connection files\n",
    "filePath = \"C:\\\\GIS\\\\DB_CONNECT\"\n",
    "\n",
    "# database file path \n",
    "sdeBase = os.path.join(filePath, \"Vector.sde\")\n",
    "sdeCollect = os.path.join(filePath, \"Collection.sde\")"
   ]
  },
  {
   "cell_type": "markdown",
   "metadata": {},
   "source": [
    "### IPES Mailing List\n",
    "*\tDouglas County, Washoe County, El Dorado County, and City of South Lake Tahoe parcels with an IPES score of 0\n",
    "*\tPlacer County parcels with an IPES score below 726\n",
    "*\tOnly include vacant lots\n",
    "*\tExclude properties under public ownership (USFS, CTC, State, Local Jurisdiction, etc.)\n",
    "*\tExclude properties deed restricted as open space and/or previously retired \n"
   ]
  },
  {
   "cell_type": "code",
   "execution_count": null,
   "metadata": {
    "ExecuteTime": {
     "end_time": "2023-03-06T18:04:42.900339Z",
     "start_time": "2023-03-06T18:04:18.363728Z"
    }
   },
   "outputs": [],
   "source": [
    "# get IPES data from LTinfo\n",
    "dfIPES     = pd.read_json(\"https://www.laketahoeinfo.org/WebServices/GetParcelIPESScores/JSON/e17aeb86-85e3-4260-83fd-a2b32501c476\")"
   ]
  },
  {
   "cell_type": "code",
   "execution_count": null,
   "metadata": {
    "ExecuteTime": {
     "end_time": "2023-03-06T21:52:22.293784Z",
     "start_time": "2023-03-06T21:51:04.840859Z"
    }
   },
   "outputs": [],
   "source": [
    "# get LTinfo data\n",
    "dfIPES     = pd.read_json(\"https://laketahoeinfo.org/WebServices/GetParcelIPESScores/JSON/e17aeb86-85e3-4260-83fd-a2b32501c476\")\n",
    "dfDevRight = pd.read_json('https://laketahoeinfo.org/WebServices/GetTransactedAndBankedDevelopmentRights/JSON/e17aeb86-85e3-4260-83fd-a2b32501c476')\n",
    "dfDeed     = pd.read_json('https://laketahoeinfo.org/WebServices/GetDeedRestrictedParcels/JSON/e17aeb86-85e3-4260-83fd-a2b32501c476')\n",
    "\n",
    "# parcel master\n",
    "parcels = sdeBase + \"\\\\sde.SDE.Parcels\\\\sde.SDE.Parcel_Master\"\n",
    "\n",
    "# create spatial dataframe from parcel feature class\n",
    "sdfParcels = pd.DataFrame.spatial.from_featureclass(parcels)"
   ]
  },
  {
   "cell_type": "code",
   "execution_count": null,
   "metadata": {
    "ExecuteTime": {
     "end_time": "2023-03-06T21:52:28.687342Z",
     "start_time": "2023-03-06T21:52:22.301778Z"
    }
   },
   "outputs": [],
   "source": [
    "# sql database connection to BMP with pyodbc\n",
    "bmpConnect = pyodbc.connect('DRIVER={ODBC Driver 17 for SQL Server};SERVER=sql14;DATABASE=tahoebmpsde;UID=sde;PWD=staff')\n",
    "# BMP - create dataframes from tahoebmpsde\n",
    "dfParcels     = pd.read_sql(\"SELECT * FROM [tahoebmpsde].[sde].[TblParcel]\", bmpConnect)\n",
    "dfParcels.rename(columns={\"APN_String\": \"APNs\"}, inplace=True)\n",
    "dfParcels"
   ]
  },
  {
   "cell_type": "code",
   "execution_count": null,
   "metadata": {
    "ExecuteTime": {
     "end_time": "2023-03-06T22:22:46.754653Z",
     "start_time": "2023-03-06T22:22:46.738647Z"
    }
   },
   "outputs": [],
   "source": [
    "dfDevRight.RecordType.unique()"
   ]
  },
  {
   "cell_type": "code",
   "execution_count": null,
   "metadata": {
    "ExecuteTime": {
     "end_time": "2023-03-06T22:22:50.057945Z",
     "start_time": "2023-03-06T22:22:49.987937Z"
    }
   },
   "outputs": [],
   "source": [
    "#filter for Official Active IPES\n",
    "dfIPESactive = dfIPES[(dfIPES.Status == 'Active')&(dfIPES.IPESScoreType == 'Official')]\n",
    "\n",
    "# filter to Retired\n",
    "dfRetired = dfDeed[(dfDeed.DeedRestrictionType == \"Retired\")]\n",
    "# drop duplicates\n",
    "dfRetired = dfRetired.drop_duplicates('APN')\n",
    "\n",
    "# filter Allocations from all Dev Rights\n",
    "dfAll = dfDevRight[(dfDevRight.RecordType == 'Allocation Assignment Receiving Parcel') | \n",
    "                   (dfDevRight.RecordType == 'Allocation Receiving Parcel') |\n",
    "                   (dfDevRight.RecordType == 'Allocation Assignment Sending Parcel')]\n",
    "\n",
    "dfAllocation = dfAll.drop_duplicates('APN')"
   ]
  },
  {
   "cell_type": "code",
   "execution_count": null,
   "metadata": {
    "ExecuteTime": {
     "end_time": "2023-03-06T22:22:58.960746Z",
     "start_time": "2023-03-06T22:22:56.912557Z"
    }
   },
   "outputs": [],
   "source": [
    "data_frames = [dfIPESactive, dfRetired, dfAllocation, sdfParcels]\n",
    "\n",
    "# merge dataframes\n",
    "df = reduce(lambda  left,right: pd.merge(left,right,on=['APN'], how='left'), data_frames)\n",
    "df.shape"
   ]
  },
  {
   "cell_type": "code",
   "execution_count": null,
   "metadata": {
    "ExecuteTime": {
     "end_time": "2023-03-06T22:23:18.894518Z",
     "start_time": "2023-03-06T22:23:18.612493Z"
    }
   },
   "outputs": [],
   "source": [
    "df.rename(columns={'IPESScore_x': 'IPESScore'}, inplace=True)\n",
    "# specify fields to keep\n",
    "dfOut = df[['APN',\n",
    "            'PPNO',\n",
    "            'Status',\n",
    "            'IPESScore',\n",
    "            'IPESScoreType',\n",
    "            'DeedRestrictionType',\n",
    "            'RecordType',\n",
    "            'DevelopmentRight',\n",
    "            'APO_ADDRESS',\n",
    "            'PSTL_TOWN',\n",
    "            'PSTL_STATE',\n",
    "            'PSTL_ZIP5',\n",
    "            'OWN_FIRST',\n",
    "            'OWN_LAST',\n",
    "            'OWN_FULL',\n",
    "            'MAIL_ADD1',\n",
    "            'MAIL_ADD2',\n",
    "            'MAIL_CITY',\n",
    "            'MAIL_STATE',\n",
    "            'MAIL_ZIP5',\n",
    "            'JURISDICTION',\n",
    "            'COUNTY',\n",
    "            'OWNERSHIP_TYPE',\n",
    "            'COUNTY_LANDUSE_DESCRIPTION',\n",
    "            'EXISTING_LANDUSE',\n",
    "            'REGIONAL_LANDUSE',\n",
    "            'PARCEL_ACRES'\n",
    "            ]].copy()\n",
    "\n",
    "df = dfOut"
   ]
  },
  {
   "cell_type": "code",
   "execution_count": null,
   "metadata": {
    "ExecuteTime": {
     "end_time": "2023-03-06T22:23:21.434745Z",
     "start_time": "2023-03-06T22:23:21.377742Z"
    }
   },
   "outputs": [],
   "source": [
    "# filter by all criteria\n",
    "df = df[(((df.COUNTY == 'PL') & (df.IPESScore < 726)) | ((df.COUNTY.isin(['EL','WA','DG','CC'])) & (df.IPESScore == 0)))\n",
    "        & (df.DeedRestrictionType.isnull()) & (df.DevelopmentRight.isnull())\n",
    "        & ((df.OWNERSHIP_TYPE == 'Private') & (df.EXISTING_LANDUSE == 'Vacant'))]\n",
    "\n",
    "df.shape"
   ]
  },
  {
   "cell_type": "code",
   "execution_count": null,
   "metadata": {
    "ExecuteTime": {
     "end_time": "2023-03-06T22:26:46.004022Z",
     "start_time": "2023-03-06T22:26:45.872007Z"
    }
   },
   "outputs": [],
   "source": [
    "dfParcels.drop(columns=['APN'],inplace=True)"
   ]
  },
  {
   "cell_type": "code",
   "execution_count": null,
   "metadata": {
    "ExecuteTime": {
     "end_time": "2023-03-06T22:28:28.105142Z",
     "start_time": "2023-03-06T22:28:27.613094Z"
    }
   },
   "outputs": [],
   "source": [
    "# dfParcels.drop(columns=['APN'],inplace=True)\n",
    "dfParcels.rename(columns={'APNs': 'APN'}, inplace=True)\n",
    "# dfParcels.rename(columns={'APN': 'PPNO'}, inplace=True)\n",
    "dfNewAddress = pd.merge(df, dfParcels, on=['APN'], how='left')\n",
    "\n",
    "\n",
    "dfMail = dfNewAddress[['APN',\n",
    "            'Status',\n",
    "            'IPESScore',\n",
    "            'IPESScoreType',\n",
    "            'DeedRestrictionType',\n",
    "            'RecordType',\n",
    "            'DevelopmentRight',\n",
    "            'APO_ADDRESS',\n",
    "            'PSTL_TOWN',\n",
    "            'PSTL_STATE',\n",
    "            'PSTL_ZIP5',\n",
    "            'OWN_FIRST',\n",
    "            'OWN_LAST',\n",
    "            'OWN_FULL',\n",
    "            'MAIL_ADD1',\n",
    "            'MAIL_ADD2',\n",
    "            'MAIL_CITY',\n",
    "            'MAIL_STATE',\n",
    "            'MAIL_ZIP5',\n",
    "            'OwnerName',\n",
    "            'OwnerFirst',\n",
    "            'OwnerLast',\n",
    "            'OwnerStreet',\n",
    "            'OwnerCity',\n",
    "            'OwnerState',\n",
    "            'OwnerZip',\n",
    "            'OwnerCountry',\n",
    "            'OwnerPhone',\n",
    "            'OwnerEmail',       \n",
    "            'JURISDICTION',\n",
    "            'COUNTY',\n",
    "            'OWNERSHIP_TYPE',\n",
    "            'COUNTY_LANDUSE_DESCRIPTION',\n",
    "            'EXISTING_LANDUSE',\n",
    "            'REGIONAL_LANDUSE',\n",
    "            'PARCEL_ACRES'\n",
    "            ]].copy()\n",
    "\n",
    "dfMail.to_csv(os.path.join(workspace, 'IPES_MailingList.csv'))"
   ]
  },
  {
   "cell_type": "markdown",
   "metadata": {
    "heading_collapsed": true
   },
   "source": [
    "### Deed Restriction Mailing List"
   ]
  },
  {
   "cell_type": "code",
   "execution_count": null,
   "metadata": {
    "hidden": true
   },
   "outputs": [],
   "source": [
    "# get Deed Restriction data from lTinfo\n",
    "dfDeed     = pd.read_json(\"https://laketahoeinfo.org/WebServices/GetDeedRestrictedParcels/JSON/e17aeb86-85e3-4260-83fd-a2b32501c476\")"
   ]
  },
  {
   "cell_type": "code",
   "execution_count": null,
   "metadata": {
    "hidden": true
   },
   "outputs": [],
   "source": [
    "# copy parcel master to local gdb\n",
    "# parcel base\n",
    "parcels = sdeBase + \"\\\\sde.SDE.Parcels\\\\sde.SDE.Parcel_Master\"\n",
    "# # copy\n",
    "# arcpy.FeatureClassToFeatureClass_conversion(parcels, workspace,\"ParcelMaster\")\n",
    "\n",
    "# create spatial dataframe from parcel feature class\n",
    "sdfParcels = pd.DataFrame.spatial.from_featureclass(parcels)\n",
    "\n",
    "sdfParcels.info()"
   ]
  },
  {
   "cell_type": "code",
   "execution_count": null,
   "metadata": {
    "hidden": true
   },
   "outputs": [],
   "source": [
    "# merge parcels and sql table on APN\n",
    "df = pd.merge(sdfParcels, dfDeed, on='APN', how='right')\n",
    "\n",
    "\n",
    "\n",
    "# specify fields to keep\n",
    "## Add Physical Address Information and Registration Status\n",
    "dfOut = df[['APN',\n",
    "            'RecordingNumber',\n",
    "            'RecordingDate',\n",
    "            'Description',\n",
    "            'DeedRestrictionStatus',\n",
    "            'DeedRestrictionType',\n",
    "            'ProjectAreaFileNumber',\n",
    "            'OWN_FULL',\n",
    "            'APO_ADDRESS',\n",
    "            'PSTL_TOWN',\n",
    "            'PSTL_STATE',\n",
    "            'PSTL_ZIP5',            \n",
    "            'MAIL_ADD1',\n",
    "            'MAIL_ADD2',\n",
    "            'MAIL_CITY',\n",
    "            'MAIL_STATE',\n",
    "            'MAIL_ZIP5',\n",
    "            'COUNTY'\n",
    "            ]].copy()\n",
    "\n",
    "dfOut\n",
    "\n",
    "# dfM2= dfMoor.rename(columns={\"Registration Submission #\": \"Registration\"})\n",
    "\n",
    "# dfFinal = pd.merge(dfOut, dfM2, on='Registration', how='left')"
   ]
  },
  {
   "cell_type": "code",
   "execution_count": null,
   "metadata": {
    "hidden": true,
    "scrolled": true
   },
   "outputs": [],
   "source": [
    "dfOut.to_csv(os.path.join(desktop,'DeedRestriction_MailMerge.csv'))"
   ]
  },
  {
   "cell_type": "markdown",
   "metadata": {
    "heading_collapsed": true
   },
   "source": [
    "### Mooring Registration Mailing List"
   ]
  },
  {
   "cell_type": "code",
   "execution_count": 1,
   "metadata": {},
   "outputs": [],
   "source": [
    "##--------------------------------------------------------------------------------------##\n",
    "## SETUP\n",
    "# import packages\n",
    "import os\n",
    "import pandas as pd\n",
    "# external connection packages\n",
    "from sqlalchemy.engine import URL\n",
    "from sqlalchemy import create_engine\n",
    "\n",
    "# workspace to save csvs\n",
    "workspace = r\"F:\\GIS\\PROJECTS\\ResearchAnalysis\\MailingLists\\Mooring\"\n",
    "\n",
    "# setup SQL connection engine\n",
    "connection_string = \"DRIVER={ODBC Driver 17 for SQL Server};SERVER=sql14;DATABASE=tahoebmpsde;UID=sde;PWD=staff\"\n",
    "connection_url    = URL.create(\"mssql+pyodbc\", query={\"odbc_connect\": connection_string})\n",
    "engine            = create_engine(connection_url)\n",
    "\n",
    "##--------------------------------------------------------------------------------------##\n",
    "## EXTRACT\n",
    "\n",
    "# use the sql engine\n",
    "with engine.begin() as bmpConnect:\n",
    "    # Create parcel dataframes from tahoebmpsde\n",
    "    dfParcels = pd.read_sql(\"SELECT * FROM [tahoebmpsde].[sde].[TblParcel]\", bmpConnect)\n",
    "\n",
    "# table downloaded from parcel tracker \n",
    "# REGISTRATIONS SUMBISSIONS REVIEW grid with 'All Registration Submissions' checked\n",
    "# https://parcels.laketahoeinfo.org/MooringRegistrationSubmissionReview/AllMooringRegistrationSubmissions\n",
    "dfMoor = pd.read_csv(os.path.join(workspace, \"mooringRegistrationsGrid.csv\"))\n",
    "\n",
    "##---------------------------------------------------------------------------------------##\n",
    "## TRANSFORM\n",
    "\n",
    "# Stripping out the first character\n",
    "dfMoor['Registration'] = dfMoor['Registration Submission #'].str[1:]\n",
    "# fill NaN with 0 and convert to integer\n",
    "dfMoor['Registration'] = dfMoor['Registration'].fillna(0).astype(int)\n",
    "# Changing the data type \n",
    "dfMoor['Registration'] = dfMoor['Registration'].astype(int)\n",
    "# Changing the data type \n",
    "dfMoor['APNs'] = dfMoor['APNs'].astype(str)\n",
    "# create series of column values listing APNs indexed by registration number\n",
    "stackedMoor = pd.DataFrame(dfMoor.APNs.str.split(',').tolist(), index=dfMoor['Registration']).stack()\n",
    "# convert series to a multi-indexed data frame\n",
    "df = stackedMoor.to_frame()\n",
    "# format to dataframe\n",
    "flatMoor = pd.DataFrame(df.to_records())\n",
    "# rename the index column\n",
    "df = flatMoor.rename(columns={\"0\": \"APN\"})\n",
    "# strip off blank spaces around the stacked APN values\n",
    "df.APN = df.APN.str.strip()\n",
    "# drop leftover field from flattening\n",
    "df.drop('level_1', axis=1, inplace=True)\n",
    "\n",
    "# merge orginal df to get list of APNs in stacked df\n",
    "df = pd.merge(df, dfMoor[['Registration', 'APNs','Registration Status']], how='left', on='Registration')\n",
    "# merge parcels to df\n",
    "df = pd.merge(df, dfParcels, how='left', left_on='APN', right_on='APN_String')\n",
    "\n",
    "# rename the joined APN field\n",
    "df.rename(columns={\"APN_x\": \"APN\"}, inplace=True)\n",
    "\n",
    "# specify fields to keep\n",
    "dfOut = df[['Registration',\n",
    "            'Registration Status',\n",
    "            'APN',\n",
    "            'APNs',\n",
    "            'ParcelStreet',\n",
    "            'ParcelCity',\n",
    "            'ParcelZip',\n",
    "            'OwnerName',\n",
    "            'OwnerStreet',\n",
    "            'OwnerCity',\n",
    "            'OwnerState',\n",
    "            'OwnerZip',\n",
    "            'OwnerPhone',\n",
    "            'OwnerEmail'      \n",
    "            ]].copy()\n",
    "\n",
    "# not sure if we should drop dupes and NaN records?\n",
    "# dfOut.drop_duplicates(subset=\"APN\", inplace=True)\n",
    "\n",
    "##--------------------------------------------------------------------------------------##\n",
    "## LOAD\n",
    "\n",
    "dfOut.to_csv(os.path.join(workspace, \"MooringRegistration_MailingList.csv\"))"
   ]
  },
  {
   "cell_type": "markdown",
   "metadata": {
    "heading_collapsed": true
   },
   "source": [
    "### Mailing List from Buffer"
   ]
  },
  {
   "cell_type": "code",
   "execution_count": null,
   "metadata": {
    "hidden": true
   },
   "outputs": [],
   "source": [
    "\n",
    "# Set the input workspace, get the feature class name to copy\n",
    "#  and the output location.\n",
    "arcpy.env.workspace = arcpy.GetParameterAsText(0)\n",
    "in_featureclass = arcpy.GetParameterAsText(1)\n",
    "out_workspace = arcpy.GetParameterAsText(2)\n",
    "\n",
    "out_featureclass = os.path.join(out_workspace,\n",
    "                                os.path.basename(in_featureclass))\n"
   ]
  },
  {
   "cell_type": "code",
   "execution_count": null,
   "metadata": {
    "hidden": true
   },
   "outputs": [],
   "source": [
    "# copy parcel master to local gdb\n",
    "# parcel base\n",
    "parcels = sdeBase + \"\\\\sde.SDE.Parcels\\\\sde.SDE.Parcel_Master\"\n",
    "# # copy\n",
    "# arcpy.FeatureClassToFeatureClass_conversion(parcels, workspace,\"ParcelMaster\")\n",
    "\n",
    "# create spatial dataframe from parcel feature class\n",
    "sdfParcels = pd.DataFrame.spatial.from_featureclass(parcels)\n",
    "\n",
    "sdfParcels.info()"
   ]
  },
  {
   "cell_type": "code",
   "execution_count": null,
   "metadata": {
    "hidden": true
   },
   "outputs": [],
   "source": [
    "arcpy.management.SelectLayerByAttribute(\"Parcels\", \"NEW_SELECTION\", \"APN IN (\"+ apns + \")\", None)\n",
    "\n",
    "arcpy.management.SelectLayerByLocation(\n",
    "    \"Parcels\", \n",
    "    \"HAVE_THEIR_CENTER_IN\", \n",
    "    \"Parcels\", \n",
    "    \"300 Feet\", \n",
    "    \"ADD_TO_SELECTION\", \n",
    "    \"NOT_INVERT\")\n",
    "\n",
    "arcpy.conversion.TableToTable(\"Parcels\", \n",
    "                              r\"C:\\GIS\", \n",
    "                              \"Parcel_MailingList.csv\", \n",
    "                              '', \n",
    "                              'APN \"APN\" true true false 16 Text 0 0,First,#,Parcels,APN,0,16;APO_ADDRESS \"Full Address\" true true false 100 Text 0 0,First,#,Parcels,APO_ADDRESS,0,100;PSTL_TOWN \"Postal Town\" true true false 25 Text 0 0,First,#,Parcels,PSTL_TOWN,0,25;PSTL_STATE \"Postal State\" true true false 2 Text 0 0,First,#,Parcels,PSTL_STATE,0,2;PSTL_ZIP5 \"Postal Zip Code\" true true false 5 Text 0 0,First,#,Parcels,PSTL_ZIP5,0,5;OWN_FIRST \"Own First Name\" true true false 50 Text 0 0,First,#,Parcels,OWN_FIRST,0,50;OWN_LAST \"Owner Last Name\" true true false 100 Text 0 0,First,#,Parcels,OWN_LAST,0,100;OWN_FULL \"Owner Full Name\" true true false 100 Text 0 0,First,#,Parcels,OWN_FULL,0,100;MAIL_ADD1 \"Mailing Address 1\" true true false 100 Text 0 0,First,#,Parcels,MAIL_ADD1,0,100;MAIL_ADD2 \"Mailing Address 2\" true true false 100 Text 0 0,First,#,Parcels,MAIL_ADD2,0,100;MAIL_CITY \"Mailing City\" true true false 50 Text 0 0,First,#,Parcels,MAIL_CITY,0,50;MAIL_STATE \"Mailing State\" true true false 2 Text 0 0,First,#,Parcels,MAIL_STATE,0,2;MAIL_ZIP5 \"Mailing Zip Code\" true true false 5 Text 0 0,First,#,Parcels,MAIL_ZIP5,0,5;JURISDICTION \"Jurisdiction\" true true false 4 Text 0 0,First,#,Parcels,JURISDICTION,0,4;OWNERSHIP_TYPE \"Ownership Type\" true true false 12 Text 0 0,First,#,Parcels,OWNERSHIP_TYPE,0,12;EXISTING_LANDUSE \"Existing Land Use\" true true false 50 Text 0 0,First,#,Parcels,EXISTING_LANDUSE,0,50;GlobalID \"GlobalID\" false false true 38 GlobalID 0 0,First,#,Parcels,GlobalID,-1,-1', \n",
    "                              '')"
   ]
  },
  {
   "cell_type": "code",
   "execution_count": null,
   "metadata": {
    "hidden": true
   },
   "outputs": [],
   "source": [
    "# create series of column values listing APNs indexed by registration number\n",
    "records = pd.DataFrame(dfMoor.APNs.str.split(',').tolist(), index=dfMoor['Registration Submission #']).stack()\n",
    "\n",
    "# convert series to data frame\n",
    "df = records.to_frame()\n",
    "\n",
    "# format data frame\n",
    "flattened = pd.DataFrame(df.to_records())\n",
    "dfM = flattened.rename(columns={\"Registration Submission #\": \"Registration\", \"0\": \"APN\"})\n",
    "dfM.drop(['level_0'], axis=1, inplace=True)\n",
    "dfM\n",
    "dfM.APN = dfM.APN.str.strip()\n",
    "\n",
    "# merge parcels and sql table on APN\n",
    "df = pd.merge(sdfParcels, dfM, on='APN', how='right')\n",
    "\n",
    "\n",
    "\n",
    "# specify fields to keep\n",
    "## Add Physical Address Information and Registration Status\n",
    "dfOut = df[['APN',\n",
    "            'Registration',\n",
    "            'OWN_FULL',\n",
    "            'APO_ADDRESS',\n",
    "            'PSTL_TOWN',\n",
    "            'PSTL_STATE',\n",
    "            'PSTL_ZIP5',            \n",
    "            'MAIL_ADD1',\n",
    "            'MAIL_ADD2',\n",
    "            'MAIL_CITY',\n",
    "            'MAIL_STATE',\n",
    "            'MAIL_ZIP5',\n",
    "            'COUNTY'\n",
    "            ]].copy()\n",
    "\n",
    "dfOut\n",
    "\n",
    "dfM2= dfMoor.rename(columns={\"Registration Submission #\": \"Registration\"})\n",
    "\n",
    "dfFinal = pd.merge(dfOut, dfM2, on='Registration', how='left')"
   ]
  },
  {
   "cell_type": "markdown",
   "metadata": {
    "heading_collapsed": true
   },
   "source": [
    "## Send Email"
   ]
  },
  {
   "cell_type": "code",
   "execution_count": null,
   "metadata": {
    "code_folding": [],
    "hidden": true
   },
   "outputs": [],
   "source": [
    "import getpass, smtplib, os\n",
    "from email.mime.text import MIMEText\n",
    "from email.mime.multipart import MIMEMultipart\n",
    "\n",
    "# fileToSend = input(\"File: \")\n",
    "# subject = input(\"Subject: \")\n",
    "# sender_email = input(\"Outlook Email: \")\n",
    "# password = getpass.getpass(\"Password: \")\n",
    "# receiver_email = input(\"Recieving Email: \")\n",
    "\n",
    "fileToSend = r\"C:\\Users\\mbindl\\Desktop\\DeedRestriction_MailMerge.csv\"\n",
    "# subject = \"Deed Restriction Mailing List\"\n",
    "# sender_email = \"mbindl@trpa.gov\"\n",
    "# password = \"Ma$eWork23\"\n",
    "# receiver_email = \"mbindl@trpa.gov\"\n",
    "\n",
    "subject = \"Deed Restriction Mailing List\"\n",
    "sender_email = \"infosys@trpa.org\"\n",
    "# password = ''\n",
    "receiver_email = \"gis@trpa.gov\"\n",
    "\n",
    "def send_test_mail(body):\n",
    "    msg = MIMEMultipart()\n",
    "    msg['Subject'] = subject\n",
    "    msg['From'] = sender_email\n",
    "    msg['To'] = receiver_email\n",
    "\n",
    "    msgText = MIMEText('%s<br><br>Cheers,<br>GIS Team' % (body), 'html')\n",
    "    msg.attach(msgText)\n",
    "\n",
    "    attachment = MIMEText(open(fileToSend).read())\n",
    "    attachment.add_header(\"Content-Disposition\", \"attachment\", filename = os.path.basename(fileToSend))\n",
    "    msg.attach(attachment)\n",
    "\n",
    "    try:\n",
    "        with smtplib.SMTP('smtp.office365.com', 587) as smtpObj:\n",
    "            smtpObj.ehlo()\n",
    "            smtpObj.starttls()\n",
    "            smtpObj.login(sender_email, password)\n",
    "            smtpObj.sendmail(sender_email, receiver_email, msg.as_string())\n",
    "    except Exception as e:\n",
    "        print(e)\n",
    "\n",
    "send_test_mail(\"Here's that list.\")\n",
    "print('Sending email...')"
   ]
  },
  {
   "cell_type": "code",
   "execution_count": null,
   "metadata": {
    "hidden": true
   },
   "outputs": [],
   "source": []
  }
 ],
 "metadata": {
  "kernelspec": {
   "display_name": "arcgispro-py3",
   "language": "python",
   "name": "python3"
  },
  "language_info": {
   "codemirror_mode": {
    "name": "ipython",
    "version": 3
   },
   "file_extension": ".py",
   "mimetype": "text/x-python",
   "name": "python",
   "nbconvert_exporter": "python",
   "pygments_lexer": "ipython3",
   "version": "3.11.10"
  },
  "toc": {
   "base_numbering": 1,
   "nav_menu": {},
   "number_sections": true,
   "sideBar": true,
   "skip_h1_title": false,
   "title_cell": "Table of Contents",
   "title_sidebar": "Contents",
   "toc_cell": false,
   "toc_position": {},
   "toc_section_display": true,
   "toc_window_display": false
  },
  "varInspector": {
   "cols": {
    "lenName": 16,
    "lenType": 16,
    "lenVar": 40
   },
   "kernels_config": {
    "python": {
     "delete_cmd_postfix": "",
     "delete_cmd_prefix": "del ",
     "library": "var_list.py",
     "varRefreshCmd": "print(var_dic_list())"
    },
    "r": {
     "delete_cmd_postfix": ") ",
     "delete_cmd_prefix": "rm(",
     "library": "var_list.r",
     "varRefreshCmd": "cat(var_dic_list()) "
    }
   },
   "types_to_exclude": [
    "module",
    "function",
    "builtin_function_or_method",
    "instance",
    "_Feature"
   ],
   "window_display": false
  }
 },
 "nbformat": 4,
 "nbformat_minor": 4
}
